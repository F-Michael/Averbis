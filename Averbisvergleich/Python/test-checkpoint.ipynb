{
 "cells": [
  {
   "cell_type": "code",
   "execution_count": 1,
   "metadata": {},
   "outputs": [],
   "source": [
    "import numpy as np"
   ]
  },
  {
   "cell_type": "code",
   "execution_count": 3,
   "metadata": {},
   "outputs": [],
   "source": [
    "data1 = [1,2,3]"
   ]
  },
  {
   "cell_type": "code",
   "execution_count": 9,
   "metadata": {},
   "outputs": [
    {
     "name": "stdout",
     "output_type": "stream",
     "text": [
      "[1 2 3 4 5 6]\n",
      "range(1, 7)\n",
      "[1, 2, 3, 4, 5, 6]\n",
      "z [0. 1. 2. 3. 4. 5. 6.]\n",
      "y [0.5 1.3 2.1 2.9 3.7 4.5 5.3]\n",
      "w [0 1 2 3 4 5 6]\n"
     ]
    }
   ],
   "source": [
    "import numpy as np\n",
    "a = np.arange(1, 7)\n",
    "print(a)\n",
    "# im Vergleich dazu nun range:\n",
    "x = range(1, 7)\n",
    "print(x)    # x ist ein Iterator\n",
    "print(list(x))\n",
    "# weitere arange-Beispiele:\n",
    "z = np.arange(7.)\n",
    "print(\"z\",z)\n",
    "y = np.arange(0.5, 6.1, 0.8)\n",
    "print(\"y\",y)\n",
    "w = np.arange(0.5, 6.1, 0.8, int)\n",
    "print(\"w\",w)"
   ]
  },
  {
   "cell_type": "code",
   "execution_count": 13,
   "metadata": {},
   "outputs": [],
   "source": [
    "xy = np.concatenate((z,y,w))"
   ]
  },
  {
   "cell_type": "code",
   "execution_count": 15,
   "metadata": {},
   "outputs": [
    {
     "data": {
      "text/plain": [
       "array([0. , 1. , 2. , 3. , 4. , 5. , 6. , 0.5, 1.3, 2.1, 2.9, 3.7, 4.5,\n",
       "       5.3, 0. , 1. , 2. , 3. , 4. , 5. , 6. ])"
      ]
     },
     "execution_count": 15,
     "metadata": {},
     "output_type": "execute_result"
    }
   ],
   "source": [
    "xy"
   ]
  },
  {
   "cell_type": "code",
   "execution_count": 20,
   "metadata": {},
   "outputs": [
    {
     "data": {
      "text/plain": [
       "array([1, 7, 2, 6])"
      ]
     },
     "execution_count": 20,
     "metadata": {},
     "output_type": "execute_result"
    }
   ],
   "source": [
    "xx = np.array([1,7])\n",
    "xy = np.array([2,6])\n",
    "yy = np.concatenate((xx,xy))\n",
    "yy"
   ]
  }
 ],
 "metadata": {
  "kernelspec": {
   "display_name": "Python 3",
   "language": "python",
   "name": "python3"
  },
  "language_info": {
   "codemirror_mode": {
    "name": "ipython",
    "version": 3
   },
   "file_extension": ".py",
   "mimetype": "text/x-python",
   "name": "python",
   "nbconvert_exporter": "python",
   "pygments_lexer": "ipython3",
   "version": "3.7.4"
  }
 },
 "nbformat": 4,
 "nbformat_minor": 2
}
